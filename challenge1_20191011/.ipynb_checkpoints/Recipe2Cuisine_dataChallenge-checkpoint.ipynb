{
 "cells": [
  {
   "cell_type": "markdown",
   "metadata": {},
   "source": [
    "# Recipe2Cuisine"
   ]
  },
  {
   "cell_type": "code",
   "execution_count": 1,
   "metadata": {},
   "outputs": [],
   "source": [
    "import pandas as pd"
   ]
  },
  {
   "cell_type": "code",
   "execution_count": 2,
   "metadata": {},
   "outputs": [],
   "source": [
    "recipes_df = pd.read_json('./recipies.json',orient='columns')"
   ]
  },
  {
   "cell_type": "code",
   "execution_count": 3,
   "metadata": {},
   "outputs": [
    {
     "data": {
      "text/html": [
       "<div>\n",
       "<style scoped>\n",
       "    .dataframe tbody tr th:only-of-type {\n",
       "        vertical-align: middle;\n",
       "    }\n",
       "\n",
       "    .dataframe tbody tr th {\n",
       "        vertical-align: top;\n",
       "    }\n",
       "\n",
       "    .dataframe thead th {\n",
       "        text-align: right;\n",
       "    }\n",
       "</style>\n",
       "<table border=\"1\" class=\"dataframe\">\n",
       "  <thead>\n",
       "    <tr style=\"text-align: right;\">\n",
       "      <th></th>\n",
       "      <th>id</th>\n",
       "      <th>cuisine</th>\n",
       "      <th>ingredients</th>\n",
       "    </tr>\n",
       "  </thead>\n",
       "  <tbody>\n",
       "    <tr>\n",
       "      <th>0</th>\n",
       "      <td>10259</td>\n",
       "      <td>greek</td>\n",
       "      <td>[romaine lettuce, black olives, grape tomatoes...</td>\n",
       "    </tr>\n",
       "    <tr>\n",
       "      <th>1</th>\n",
       "      <td>25693</td>\n",
       "      <td>southern_us</td>\n",
       "      <td>[plain flour, ground pepper, salt, tomatoes, g...</td>\n",
       "    </tr>\n",
       "    <tr>\n",
       "      <th>2</th>\n",
       "      <td>20130</td>\n",
       "      <td>filipino</td>\n",
       "      <td>[eggs, pepper, salt, mayonaise, cooking oil, g...</td>\n",
       "    </tr>\n",
       "    <tr>\n",
       "      <th>3</th>\n",
       "      <td>22213</td>\n",
       "      <td>indian</td>\n",
       "      <td>[water, vegetable oil, wheat, salt]</td>\n",
       "    </tr>\n",
       "    <tr>\n",
       "      <th>4</th>\n",
       "      <td>13162</td>\n",
       "      <td>indian</td>\n",
       "      <td>[black pepper, shallots, cornflour, cayenne pe...</td>\n",
       "    </tr>\n",
       "    <tr>\n",
       "      <th>5</th>\n",
       "      <td>6602</td>\n",
       "      <td>jamaican</td>\n",
       "      <td>[plain flour, sugar, butter, eggs, fresh ginge...</td>\n",
       "    </tr>\n",
       "    <tr>\n",
       "      <th>6</th>\n",
       "      <td>42779</td>\n",
       "      <td>spanish</td>\n",
       "      <td>[olive oil, salt, medium shrimp, pepper, garli...</td>\n",
       "    </tr>\n",
       "    <tr>\n",
       "      <th>7</th>\n",
       "      <td>3735</td>\n",
       "      <td>italian</td>\n",
       "      <td>[sugar, pistachio nuts, white almond bark, flo...</td>\n",
       "    </tr>\n",
       "    <tr>\n",
       "      <th>8</th>\n",
       "      <td>16903</td>\n",
       "      <td>mexican</td>\n",
       "      <td>[olive oil, purple onion, fresh pineapple, por...</td>\n",
       "    </tr>\n",
       "    <tr>\n",
       "      <th>9</th>\n",
       "      <td>12734</td>\n",
       "      <td>italian</td>\n",
       "      <td>[chopped tomatoes, fresh basil, garlic, extra-...</td>\n",
       "    </tr>\n",
       "    <tr>\n",
       "      <th>10</th>\n",
       "      <td>5875</td>\n",
       "      <td>italian</td>\n",
       "      <td>[pimentos, sweet pepper, dried oregano, olive ...</td>\n",
       "    </tr>\n",
       "    <tr>\n",
       "      <th>11</th>\n",
       "      <td>45887</td>\n",
       "      <td>chinese</td>\n",
       "      <td>[low sodium soy sauce, fresh ginger, dry musta...</td>\n",
       "    </tr>\n",
       "    <tr>\n",
       "      <th>12</th>\n",
       "      <td>2698</td>\n",
       "      <td>italian</td>\n",
       "      <td>[Italian parsley leaves, walnuts, hot red pepp...</td>\n",
       "    </tr>\n",
       "    <tr>\n",
       "      <th>13</th>\n",
       "      <td>41995</td>\n",
       "      <td>mexican</td>\n",
       "      <td>[ground cinnamon, fresh cilantro, chili powder...</td>\n",
       "    </tr>\n",
       "    <tr>\n",
       "      <th>14</th>\n",
       "      <td>31908</td>\n",
       "      <td>italian</td>\n",
       "      <td>[fresh parmesan cheese, butter, all-purpose fl...</td>\n",
       "    </tr>\n",
       "    <tr>\n",
       "      <th>15</th>\n",
       "      <td>24717</td>\n",
       "      <td>indian</td>\n",
       "      <td>[tumeric, vegetable stock, tomatoes, garam mas...</td>\n",
       "    </tr>\n",
       "    <tr>\n",
       "      <th>16</th>\n",
       "      <td>34466</td>\n",
       "      <td>british</td>\n",
       "      <td>[greek yogurt, lemon curd, confectioners sugar...</td>\n",
       "    </tr>\n",
       "    <tr>\n",
       "      <th>17</th>\n",
       "      <td>1420</td>\n",
       "      <td>italian</td>\n",
       "      <td>[italian seasoning, broiler-fryer chicken, may...</td>\n",
       "    </tr>\n",
       "    <tr>\n",
       "      <th>18</th>\n",
       "      <td>2941</td>\n",
       "      <td>thai</td>\n",
       "      <td>[sugar, hot chili, asian fish sauce, lime juice]</td>\n",
       "    </tr>\n",
       "    <tr>\n",
       "      <th>19</th>\n",
       "      <td>8152</td>\n",
       "      <td>vietnamese</td>\n",
       "      <td>[soy sauce, vegetable oil, red bell pepper, ch...</td>\n",
       "    </tr>\n",
       "    <tr>\n",
       "      <th>20</th>\n",
       "      <td>13121</td>\n",
       "      <td>thai</td>\n",
       "      <td>[pork loin, roasted peanuts, chopped cilantro ...</td>\n",
       "    </tr>\n",
       "    <tr>\n",
       "      <th>21</th>\n",
       "      <td>40523</td>\n",
       "      <td>mexican</td>\n",
       "      <td>[roma tomatoes, kosher salt, purple onion, jal...</td>\n",
       "    </tr>\n",
       "    <tr>\n",
       "      <th>22</th>\n",
       "      <td>40989</td>\n",
       "      <td>southern_us</td>\n",
       "      <td>[low-fat mayonnaise, pepper, salt, baking pota...</td>\n",
       "    </tr>\n",
       "    <tr>\n",
       "      <th>23</th>\n",
       "      <td>29630</td>\n",
       "      <td>chinese</td>\n",
       "      <td>[sesame seeds, red pepper, yellow peppers, wat...</td>\n",
       "    </tr>\n",
       "    <tr>\n",
       "      <th>24</th>\n",
       "      <td>49136</td>\n",
       "      <td>italian</td>\n",
       "      <td>[marinara sauce, flat leaf parsley, olive oil,...</td>\n",
       "    </tr>\n",
       "    <tr>\n",
       "      <th>25</th>\n",
       "      <td>26705</td>\n",
       "      <td>chinese</td>\n",
       "      <td>[sugar, lo mein noodles, salt, chicken broth, ...</td>\n",
       "    </tr>\n",
       "    <tr>\n",
       "      <th>26</th>\n",
       "      <td>27976</td>\n",
       "      <td>cajun_creole</td>\n",
       "      <td>[herbs, lemon juice, fresh tomatoes, paprika, ...</td>\n",
       "    </tr>\n",
       "    <tr>\n",
       "      <th>27</th>\n",
       "      <td>22087</td>\n",
       "      <td>italian</td>\n",
       "      <td>[ground black pepper, butter, sliced mushrooms...</td>\n",
       "    </tr>\n",
       "    <tr>\n",
       "      <th>28</th>\n",
       "      <td>9197</td>\n",
       "      <td>chinese</td>\n",
       "      <td>[green bell pepper, egg roll wrappers, sweet a...</td>\n",
       "    </tr>\n",
       "    <tr>\n",
       "      <th>29</th>\n",
       "      <td>1299</td>\n",
       "      <td>mexican</td>\n",
       "      <td>[flour tortillas, cheese, breakfast sausages, ...</td>\n",
       "    </tr>\n",
       "    <tr>\n",
       "      <th>...</th>\n",
       "      <td>...</td>\n",
       "      <td>...</td>\n",
       "      <td>...</td>\n",
       "    </tr>\n",
       "    <tr>\n",
       "      <th>39744</th>\n",
       "      <td>5680</td>\n",
       "      <td>greek</td>\n",
       "      <td>[extra-virgin olive oil, oregano, potatoes, ga...</td>\n",
       "    </tr>\n",
       "    <tr>\n",
       "      <th>39745</th>\n",
       "      <td>5511</td>\n",
       "      <td>spanish</td>\n",
       "      <td>[quinoa, extra-virgin olive oil, fresh thyme l...</td>\n",
       "    </tr>\n",
       "    <tr>\n",
       "      <th>39746</th>\n",
       "      <td>32051</td>\n",
       "      <td>indian</td>\n",
       "      <td>[clove, bay leaves, ginger, chopped cilantro, ...</td>\n",
       "    </tr>\n",
       "    <tr>\n",
       "      <th>39747</th>\n",
       "      <td>5119</td>\n",
       "      <td>moroccan</td>\n",
       "      <td>[water, sugar, grated lemon zest, butter, pitt...</td>\n",
       "    </tr>\n",
       "    <tr>\n",
       "      <th>39748</th>\n",
       "      <td>9526</td>\n",
       "      <td>italian</td>\n",
       "      <td>[sea salt, pizza doughs, all-purpose flour, co...</td>\n",
       "    </tr>\n",
       "    <tr>\n",
       "      <th>39749</th>\n",
       "      <td>45599</td>\n",
       "      <td>mexican</td>\n",
       "      <td>[kosher salt, minced onion, tortilla chips, su...</td>\n",
       "    </tr>\n",
       "    <tr>\n",
       "      <th>39750</th>\n",
       "      <td>49670</td>\n",
       "      <td>mexican</td>\n",
       "      <td>[ground black pepper, chicken breasts, salsa, ...</td>\n",
       "    </tr>\n",
       "    <tr>\n",
       "      <th>39751</th>\n",
       "      <td>30735</td>\n",
       "      <td>moroccan</td>\n",
       "      <td>[olive oil, cayenne pepper, chopped cilantro f...</td>\n",
       "    </tr>\n",
       "    <tr>\n",
       "      <th>39752</th>\n",
       "      <td>5911</td>\n",
       "      <td>southern_us</td>\n",
       "      <td>[self rising flour, milk, white sugar, butter,...</td>\n",
       "    </tr>\n",
       "    <tr>\n",
       "      <th>39753</th>\n",
       "      <td>33294</td>\n",
       "      <td>italian</td>\n",
       "      <td>[rosemary sprigs, lemon zest, garlic cloves, g...</td>\n",
       "    </tr>\n",
       "    <tr>\n",
       "      <th>39754</th>\n",
       "      <td>27082</td>\n",
       "      <td>vietnamese</td>\n",
       "      <td>[jasmine rice, bay leaves, sticky rice, rotiss...</td>\n",
       "    </tr>\n",
       "    <tr>\n",
       "      <th>39755</th>\n",
       "      <td>36337</td>\n",
       "      <td>indian</td>\n",
       "      <td>[mint leaves, cilantro leaves, ghee, tomatoes,...</td>\n",
       "    </tr>\n",
       "    <tr>\n",
       "      <th>39756</th>\n",
       "      <td>15508</td>\n",
       "      <td>mexican</td>\n",
       "      <td>[vegetable oil, cinnamon sticks, water, all-pu...</td>\n",
       "    </tr>\n",
       "    <tr>\n",
       "      <th>39757</th>\n",
       "      <td>34331</td>\n",
       "      <td>greek</td>\n",
       "      <td>[red bell pepper, garlic cloves, extra-virgin ...</td>\n",
       "    </tr>\n",
       "    <tr>\n",
       "      <th>39758</th>\n",
       "      <td>47387</td>\n",
       "      <td>greek</td>\n",
       "      <td>[milk, salt, ground cayenne pepper, ground lam...</td>\n",
       "    </tr>\n",
       "    <tr>\n",
       "      <th>39759</th>\n",
       "      <td>12153</td>\n",
       "      <td>korean</td>\n",
       "      <td>[red chili peppers, sea salt, onions, water, c...</td>\n",
       "    </tr>\n",
       "    <tr>\n",
       "      <th>39760</th>\n",
       "      <td>41840</td>\n",
       "      <td>southern_us</td>\n",
       "      <td>[butter, large eggs, cornmeal, baking powder, ...</td>\n",
       "    </tr>\n",
       "    <tr>\n",
       "      <th>39761</th>\n",
       "      <td>6487</td>\n",
       "      <td>chinese</td>\n",
       "      <td>[honey, chicken breast halves, cilantro leaves...</td>\n",
       "    </tr>\n",
       "    <tr>\n",
       "      <th>39762</th>\n",
       "      <td>26646</td>\n",
       "      <td>indian</td>\n",
       "      <td>[curry powder, salt, chicken, water, vegetable...</td>\n",
       "    </tr>\n",
       "    <tr>\n",
       "      <th>39763</th>\n",
       "      <td>44798</td>\n",
       "      <td>italian</td>\n",
       "      <td>[fettuccine pasta, low-fat cream cheese, garli...</td>\n",
       "    </tr>\n",
       "    <tr>\n",
       "      <th>39764</th>\n",
       "      <td>8089</td>\n",
       "      <td>mexican</td>\n",
       "      <td>[chili powder, worcestershire sauce, celery, r...</td>\n",
       "    </tr>\n",
       "    <tr>\n",
       "      <th>39765</th>\n",
       "      <td>6153</td>\n",
       "      <td>indian</td>\n",
       "      <td>[coconut, unsweetened coconut milk, mint leave...</td>\n",
       "    </tr>\n",
       "    <tr>\n",
       "      <th>39766</th>\n",
       "      <td>25557</td>\n",
       "      <td>irish</td>\n",
       "      <td>[rutabaga, ham, thick-cut bacon, potatoes, fre...</td>\n",
       "    </tr>\n",
       "    <tr>\n",
       "      <th>39767</th>\n",
       "      <td>24348</td>\n",
       "      <td>italian</td>\n",
       "      <td>[low-fat sour cream, grated parmesan cheese, s...</td>\n",
       "    </tr>\n",
       "    <tr>\n",
       "      <th>39768</th>\n",
       "      <td>7377</td>\n",
       "      <td>mexican</td>\n",
       "      <td>[shredded cheddar cheese, crushed cheese crack...</td>\n",
       "    </tr>\n",
       "    <tr>\n",
       "      <th>39769</th>\n",
       "      <td>29109</td>\n",
       "      <td>irish</td>\n",
       "      <td>[light brown sugar, granulated sugar, butter, ...</td>\n",
       "    </tr>\n",
       "    <tr>\n",
       "      <th>39770</th>\n",
       "      <td>11462</td>\n",
       "      <td>italian</td>\n",
       "      <td>[KRAFT Zesty Italian Dressing, purple onion, b...</td>\n",
       "    </tr>\n",
       "    <tr>\n",
       "      <th>39771</th>\n",
       "      <td>2238</td>\n",
       "      <td>irish</td>\n",
       "      <td>[eggs, citrus fruit, raisins, sourdough starte...</td>\n",
       "    </tr>\n",
       "    <tr>\n",
       "      <th>39772</th>\n",
       "      <td>41882</td>\n",
       "      <td>chinese</td>\n",
       "      <td>[boneless chicken skinless thigh, minced garli...</td>\n",
       "    </tr>\n",
       "    <tr>\n",
       "      <th>39773</th>\n",
       "      <td>2362</td>\n",
       "      <td>mexican</td>\n",
       "      <td>[green chile, jalapeno chilies, onions, ground...</td>\n",
       "    </tr>\n",
       "  </tbody>\n",
       "</table>\n",
       "<p>39774 rows × 3 columns</p>\n",
       "</div>"
      ],
      "text/plain": [
       "          id      cuisine                                        ingredients\n",
       "0      10259        greek  [romaine lettuce, black olives, grape tomatoes...\n",
       "1      25693  southern_us  [plain flour, ground pepper, salt, tomatoes, g...\n",
       "2      20130     filipino  [eggs, pepper, salt, mayonaise, cooking oil, g...\n",
       "3      22213       indian                [water, vegetable oil, wheat, salt]\n",
       "4      13162       indian  [black pepper, shallots, cornflour, cayenne pe...\n",
       "...      ...          ...                                                ...\n",
       "39769  29109        irish  [light brown sugar, granulated sugar, butter, ...\n",
       "39770  11462      italian  [KRAFT Zesty Italian Dressing, purple onion, b...\n",
       "39771   2238        irish  [eggs, citrus fruit, raisins, sourdough starte...\n",
       "39772  41882      chinese  [boneless chicken skinless thigh, minced garli...\n",
       "39773   2362      mexican  [green chile, jalapeno chilies, onions, ground...\n",
       "\n",
       "[39774 rows x 3 columns]"
      ]
     },
     "execution_count": 3,
     "metadata": {},
     "output_type": "execute_result"
    }
   ],
   "source": [
    "recipes_df"
   ]
  },
  {
   "cell_type": "code",
   "execution_count": 4,
   "metadata": {},
   "outputs": [],
   "source": [
    "recipes_df['ingredients_string'] = recipes_df.ingredients.str.join(' ')"
   ]
  },
  {
   "cell_type": "code",
   "execution_count": 5,
   "metadata": {},
   "outputs": [
    {
     "name": "stderr",
     "output_type": "stream",
     "text": [
      "[nltk_data] Downloading package punkt to\n",
      "[nltk_data]     /Users/peterschnatz/nltk_data...\n",
      "[nltk_data]   Package punkt is already up-to-date!\n"
     ]
    }
   ],
   "source": [
    "import nltk\n",
    "nltk.download('punkt')\n",
    "from nltk.tokenize import word_tokenize"
   ]
  },
  {
   "cell_type": "code",
   "execution_count": 6,
   "metadata": {},
   "outputs": [
    {
     "name": "stdout",
     "output_type": "stream",
     "text": [
      "3554\n"
     ]
    },
    {
     "data": {
      "text/plain": [
       "['pepper',\n",
       " 'salt',\n",
       " 'oil',\n",
       " 'garlic',\n",
       " 'ground',\n",
       " 'fresh',\n",
       " 'sauce',\n",
       " 'sugar',\n",
       " 'onions',\n",
       " 'cheese',\n",
       " 'chicken',\n",
       " 'olive',\n",
       " 'black',\n",
       " 'water',\n",
       " 'red',\n",
       " 'flour',\n",
       " 'tomatoes',\n",
       " 'butter',\n",
       " 'green',\n",
       " 'powder',\n",
       " 'chopped',\n",
       " 'cloves',\n",
       " 'juice',\n",
       " 'white',\n",
       " 'onion',\n",
       " 'eggs',\n",
       " 'rice',\n",
       " 'cream',\n",
       " 'cilantro',\n",
       " 'milk',\n",
       " 'lemon',\n",
       " 'vegetable',\n",
       " 'leaves',\n",
       " 'large',\n",
       " 'ginger',\n",
       " 'corn',\n",
       " 'dried',\n",
       " 'vinegar',\n",
       " 'lime',\n",
       " 'soy',\n",
       " 'cumin',\n",
       " 'all-purpose',\n",
       " 'broth',\n",
       " 'wine',\n",
       " 'chili',\n",
       " 'bell',\n",
       " 'parsley',\n",
       " 'sesame',\n",
       " 'beans',\n",
       " 'grated']"
      ]
     },
     "execution_count": 6,
     "metadata": {},
     "output_type": "execute_result"
    }
   ],
   "source": [
    "ingred_list = recipes_df.ingredients_string.str.cat(sep=' ')\n",
    "#function to split text into word\n",
    "tokens = word_tokenize(ingred_list)\n",
    "vocabulary = set(tokens)\n",
    "print(len(vocabulary))\n",
    "frequency_dist = nltk.FreqDist(tokens)\n",
    "sorted(frequency_dist,key=frequency_dist.__getitem__, reverse=True)[0:50]"
   ]
  },
  {
   "cell_type": "code",
   "execution_count": 7,
   "metadata": {},
   "outputs": [
    {
     "data": {
      "text/plain": [
       "['sato',\n",
       " 'Jagermeister',\n",
       " 'huckleberries',\n",
       " 'crosswise',\n",
       " 'pike',\n",
       " 'matzos',\n",
       " 'nettle',\n",
       " 'bellpepper',\n",
       " 'Tandoori',\n",
       " 'Naan',\n",
       " 'sucrolose',\n",
       " 'Holland',\n",
       " 'House',\n",
       " 'Wine',\n",
       " 'frankfurters',\n",
       " 'soy-based',\n",
       " 'tortelloni',\n",
       " 'Potato',\n",
       " 'Matzo',\n",
       " 'Meal',\n",
       " 'arctic',\n",
       " 'tonic',\n",
       " 'Chartreuse',\n",
       " 'aloe',\n",
       " 'Honeysuckle',\n",
       " 'White®',\n",
       " 'Turkey',\n",
       " 'cumberland',\n",
       " 'Colman',\n",
       " 'manouri',\n",
       " 'ribeye',\n",
       " 'riblets',\n",
       " 'Plus',\n",
       " 'conchiglie',\n",
       " 'Makers',\n",
       " 'Mark',\n",
       " 'Whisky',\n",
       " 'ranch-style',\n",
       " 'ketjap',\n",
       " 'Daiya',\n",
       " 'Slim',\n",
       " 'Cotto',\n",
       " 'Salami',\n",
       " 'Challenge',\n",
       " 'Brew',\n",
       " 'Size',\n",
       " 'Bags',\n",
       " 'Dip',\n",
       " 'lop',\n",
       " 'chong']"
      ]
     },
     "execution_count": 7,
     "metadata": {},
     "output_type": "execute_result"
    }
   ],
   "source": [
    "sorted(frequency_dist,key=frequency_dist.__getitem__, reverse=True)[-50:]"
   ]
  },
  {
   "cell_type": "code",
   "execution_count": 8,
   "metadata": {},
   "outputs": [
    {
     "name": "stdout",
     "output_type": "stream",
     "text": [
      "20\n",
      "italian         7838\n",
      "mexican         6438\n",
      "southern_us     4320\n",
      "indian          3003\n",
      "chinese         2673\n",
      "french          2646\n",
      "cajun_creole    1546\n",
      "thai            1539\n",
      "japanese        1423\n",
      "greek           1175\n",
      "spanish          989\n",
      "korean           830\n",
      "vietnamese       825\n",
      "moroccan         821\n",
      "british          804\n",
      "filipino         755\n",
      "irish            667\n",
      "jamaican         526\n",
      "russian          489\n",
      "brazilian        467\n",
      "Name: cuisine, dtype: int64\n",
      "0.19706340825665009\n"
     ]
    }
   ],
   "source": [
    "print(recipes_df.cuisine.nunique())\n",
    "print(recipes_df.cuisine.value_counts())\n",
    "print(recipes_df.cuisine.value_counts().max() / len(recipes_df))"
   ]
  },
  {
   "cell_type": "markdown",
   "metadata": {},
   "source": [
    "If I blindly just assign all of the recipes to italian, I will get 20% accuracy. What if I randomly select a cuisine and assign it?"
   ]
  },
  {
   "cell_type": "code",
   "execution_count": 9,
   "metadata": {},
   "outputs": [],
   "source": [
    "import random"
   ]
  },
  {
   "cell_type": "code",
   "execution_count": 11,
   "metadata": {},
   "outputs": [
    {
     "name": "stdout",
     "output_type": "stream",
     "text": [
      "0.05003268466837633\n"
     ]
    }
   ],
   "source": [
    "from  sklearn.metrics  import accuracy_score\n",
    "cuisine_list = list(recipes_df.cuisine.unique())\n",
    "predict_cuisine_random = [random.choice(cuisine_list) for i in range(len(recipes_df))]\n",
    "print(accuracy_score(recipes_df.cuisine,predict_cuisine_random))"
   ]
  },
  {
   "cell_type": "code",
   "execution_count": 14,
   "metadata": {},
   "outputs": [],
   "source": [
    "from itertools import permutations \n",
    "import numpy as np"
   ]
  },
  {
   "cell_type": "code",
   "execution_count": 15,
   "metadata": {},
   "outputs": [
    {
     "name": "stdout",
     "output_type": "stream",
     "text": [
      "Average accuracy for benchmark: 0.10\n"
     ]
    }
   ],
   "source": [
    "acc_scores = list()\n",
    "for i in range(1000):\n",
    "    cuisines_perm = np.random.permutation(list(recipes_df.cuisine))\n",
    "    acc_scores.append(accuracy_score(recipes_df.cuisine,cuisines_perm))\n",
    "\n",
    "print('Average accuracy for benchmark: %.2f' %(sum(acc_scores)/len(acc_scores)))"
   ]
  },
  {
   "cell_type": "code",
   "execution_count": null,
   "metadata": {},
   "outputs": [],
   "source": []
  },
  {
   "cell_type": "markdown",
   "metadata": {},
   "source": [
    "Excellent! So it does even worse!!"
   ]
  },
  {
   "cell_type": "markdown",
   "metadata": {},
   "source": [
    "## Straight out of the box TF-IDF Naive-Bayes"
   ]
  },
  {
   "cell_type": "code",
   "execution_count": 16,
   "metadata": {},
   "outputs": [
    {
     "name": "stderr",
     "output_type": "stream",
     "text": [
      "[nltk_data] Downloading package stopwords to\n",
      "[nltk_data]     /Users/peterschnatz/nltk_data...\n",
      "[nltk_data]   Package stopwords is already up-to-date!\n"
     ]
    }
   ],
   "source": [
    "nltk.download('stopwords')\n",
    "from nltk.corpus import stopwords"
   ]
  },
  {
   "cell_type": "code",
   "execution_count": 17,
   "metadata": {},
   "outputs": [],
   "source": [
    "stop_words = set(stopwords.words('english'))\n",
    "tokens = [w for w in tokens if not w in stop_words]"
   ]
  },
  {
   "cell_type": "code",
   "execution_count": 18,
   "metadata": {},
   "outputs": [
    {
     "data": {
      "text/plain": [
       "3530"
      ]
     },
     "execution_count": 18,
     "metadata": {},
     "output_type": "execute_result"
    }
   ],
   "source": [
    "vocab_no_stops = set(tokens)\n",
    "len(vocab_no_stops)"
   ]
  },
  {
   "cell_type": "code",
   "execution_count": 20,
   "metadata": {},
   "outputs": [
    {
     "data": {
      "image/png": "[encoded data removed]",
      "text/plain": [
       "<Figure size 1080x576 with 1 Axes>"
      ]
     },
     "metadata": {
      "needs_background": "light"
     },
     "output_type": "display_data"
    }
   ],
   "source": [
    "from wordcloud import WordCloud\n",
    "import matplotlib.pyplot as plt\n",
    "\n",
    "fig = plt.figure(figsize=(15,8))\n",
    "wordcloud = WordCloud().generate_from_frequencies(frequency_dist)\n",
    "plt.imshow(wordcloud)\n",
    "plt.axis(\"off\")\n",
    "plt.show()"
   ]
  },
  {
   "cell_type": "code",
   "execution_count": 21,
   "metadata": {},
   "outputs": [],
   "source": [
    "from sklearn.model_selection import train_test_split"
   ]
  },
  {
   "cell_type": "code",
   "execution_count": 22,
   "metadata": {},
   "outputs": [],
   "source": [
    "X_train, X_test, y_train, y_test = train_test_split(recipes_df.ingredients_string, recipes_df.cuisine, test_size=0.2,\n",
    "                                                   random_state=123)"
   ]
  },
  {
   "cell_type": "code",
   "execution_count": 23,
   "metadata": {},
   "outputs": [],
   "source": [
    "from sklearn.feature_extraction.text import TfidfTransformer\n",
    "from sklearn.feature_extraction.text import TfidfVectorizer"
   ]
  },
  {
   "cell_type": "code",
   "execution_count": 24,
   "metadata": {},
   "outputs": [
    {
     "name": "stdout",
     "output_type": "stream",
     "text": [
      "(31819, 2894) (7955, 2894)\n"
     ]
    }
   ],
   "source": [
    "vectorizer = TfidfVectorizer()\n",
    "train_vectors = vectorizer.fit_transform(X_train)\n",
    "test_vectors = vectorizer.transform(X_test)\n",
    "print(train_vectors.shape, test_vectors.shape)"
   ]
  },
  {
   "cell_type": "code",
   "execution_count": 25,
   "metadata": {},
   "outputs": [],
   "source": [
    "from sklearn.naive_bayes import MultinomialNB"
   ]
  },
  {
   "cell_type": "code",
   "execution_count": 26,
   "metadata": {},
   "outputs": [],
   "source": [
    "clf = MultinomialNB().fit(train_vectors, y_train)"
   ]
  },
  {
   "cell_type": "code",
   "execution_count": 27,
   "metadata": {},
   "outputs": [
    {
     "name": "stdout",
     "output_type": "stream",
     "text": [
      "0.6696417347580138\n"
     ]
    }
   ],
   "source": [
    "from  sklearn.metrics  import accuracy_score\n",
    "predicted = clf.predict(test_vectors)\n",
    "print(accuracy_score(y_test,predicted))"
   ]
  },
  {
   "cell_type": "code",
   "execution_count": null,
   "metadata": {},
   "outputs": [],
   "source": []
  },
  {
   "cell_type": "code",
   "execution_count": 28,
   "metadata": {},
   "outputs": [],
   "source": [
    "from sklearn.ensemble import RandomForestClassifier"
   ]
  },
  {
   "cell_type": "code",
   "execution_count": 29,
   "metadata": {},
   "outputs": [],
   "source": [
    "clf = RandomForestClassifier(n_estimators=50).fit(train_vectors, y_train)"
   ]
  },
  {
   "cell_type": "code",
   "execution_count": 30,
   "metadata": {},
   "outputs": [
    {
     "name": "stdout",
     "output_type": "stream",
     "text": [
      "0.7373978629792584\n"
     ]
    }
   ],
   "source": [
    "from  sklearn.metrics  import accuracy_score\n",
    "predicted = clf.predict(test_vectors)\n",
    "print(accuracy_score(y_test,predicted))"
   ]
  },
  {
   "cell_type": "markdown",
   "metadata": {},
   "source": [
    "That's a pretty good improvement over benchmark!"
   ]
  },
  {
   "cell_type": "markdown",
   "metadata": {},
   "source": [
    "Let's try to spruce it up a bit though. Let's see if we can deal with different ingredients meaning essentially the same thing."
   ]
  },
  {
   "cell_type": "markdown",
   "metadata": {},
   "source": [
    "Preprocess the ingredient lists to make sure there are no numbers or non-alphabet characters and everything is lower case. Removing the numbers, i.e. the amount of each ingredient might lose a bit of information. But since the amount of each ingredient is typically not said, the information it gives is minimal."
   ]
  },
  {
   "cell_type": "code",
   "execution_count": 34,
   "metadata": {},
   "outputs": [
    {
     "data": {
      "text/plain": [
       "['grape tomatoes',\n",
       " 'purple onion',\n",
       " 'romaine lettuce',\n",
       " 'garlic',\n",
       " 'seasoning',\n",
       " 'black olives',\n",
       " 'pepper',\n",
       " 'garbanzo beans',\n",
       " 'feta cheese crumbles']"
      ]
     },
     "execution_count": 34,
     "metadata": {},
     "output_type": "execute_result"
    }
   ],
   "source": [
    "list(set(recipes_df.ingredients[0]))"
   ]
  },
  {
   "cell_type": "markdown",
   "metadata": {},
   "source": [
    "Take out non-alphabet characters, keep spaces and make everything lowercase"
   ]
  },
  {
   "cell_type": "code",
   "execution_count": 36,
   "metadata": {},
   "outputs": [],
   "source": [
    "ingred_lists_no_repeats = list()\n",
    "\n",
    "for i, row in enumerate(recipes_df['ingredients']):\n",
    "    ingred_list_processed = list()\n",
    "    \n",
    "    for term in row:\n",
    "        temp = pattern.sub('',term).lower()\n",
    "        ingred_list_processed.append(temp)\n",
    "\n",
    "    ingred_no_repeats = list(set(ingred_list_processed))\n",
    "    ingred_lists_no_repeats.append(ingred_no_repeats)"
   ]
  },
  {
   "cell_type": "code",
   "execution_count": 37,
   "metadata": {},
   "outputs": [],
   "source": [
    "recipes_df['ingred_processed'] = ingred_lists_no_repeats"
   ]
  },
  {
   "cell_type": "markdown",
   "metadata": {},
   "source": [
    "Let's see if there are repeats ingredient lists which are applied to more than one cuisine"
   ]
  },
  {
   "cell_type": "code",
   "execution_count": 38,
   "metadata": {},
   "outputs": [],
   "source": [
    "ingred_sets = [set(row) for row in list(recipes_df.ingred_processed)]"
   ]
  },
  {
   "cell_type": "code",
   "execution_count": 39,
   "metadata": {},
   "outputs": [],
   "source": [
    "recipes_df['ingred_set'] = ingred_sets"
   ]
  },
  {
   "cell_type": "code",
   "execution_count": 40,
   "metadata": {},
   "outputs": [],
   "source": [
    "repeat_ingred_list = recipes_df.ingred_set.value_counts()[recipes_df.ingred_set.value_counts() > 1]"
   ]
  },
  {
   "cell_type": "code",
   "execution_count": 41,
   "metadata": {},
   "outputs": [
    {
     "data": {
      "text/plain": [
       "501"
      ]
     },
     "execution_count": 41,
     "metadata": {},
     "output_type": "execute_result"
    }
   ],
   "source": [
    "len(repeat_ingred_list)"
   ]
  },
  {
   "cell_type": "code",
   "execution_count": 42,
   "metadata": {},
   "outputs": [
    {
     "name": "stdout",
     "output_type": "stream",
     "text": [
      "{'active dry yeast', 'salt', 'bread flour', 'olive oil', 'warm water', 'sugar'}\n",
      "{'greek', 'italian'}\n",
      "\n",
      "{'buttermilk', 'whipping cream'}\n",
      "{'french', 'mexican'}\n",
      "\n",
      "{'baking powder', 'almond extract', 'salt', 'allpurpose flour', 'vanilla extract', 'butter', 'powdered sugar'}\n",
      "{'irish', 'southern_us'}\n",
      "\n",
      "{'onions', 'boneless pork shoulder', 'kosher salt', 'fresh lime juice', 'water', 'bay leaves', 'dried oregano', 'ground black pepper', 'orange', 'ground cumin'}\n",
      "{'spanish', 'mexican'}\n",
      "\n",
      "{'sausages', 'onions', 'chili powder', 'paprika', 'red bell pepper', 'boneless chicken skinless thigh', 'tasso', 'celery ribs', 'flat leaf parsley', 'long grain white rice', 'chopped fresh thyme', 'andouille sausage', 'cayenne pepper', 'green onions', 'applewood smoked bacon', 'diced tomatoes', 'green bell pepper', 'beef broth'}\n",
      "{'cajun_creole', 'southern_us'}\n",
      "\n",
      "{'chili oil', 'soy sauce', 'rice vinegar'}\n",
      "{'japanese', 'chinese'}\n",
      "\n",
      "{'active dry yeast', 'salt', 'allpurpose flour', 'vegetable oil', 'warm water', 'white sugar'}\n",
      "{'greek', 'filipino'}\n",
      "\n",
      "{'baking powder', 'salt', 'allpurpose flour', 'butter', 'vanilla extract', 'powdered sugar', 'toasted pecans'}\n",
      "{'irish', 'southern_us'}\n",
      "\n",
      "{'allpurpose flour', 'salt', 'butter', 'pepper', 'milk', 'parmesan cheese'}\n",
      "{'french', 'southern_us'}\n",
      "\n",
      "{'kosher salt', 'water', 'lemon'}\n",
      "{'moroccan', 'vietnamese'}\n",
      "\n",
      "{'butter'}\n",
      "{'french', 'indian'}\n",
      "\n",
      "{'cinnamon sticks', 'salt', 'corn starch', 'whole milk', 'large egg yolks', 'lemon rind', 'sugar'}\n",
      "{'spanish', 'italian'}\n",
      "\n",
      "{'active dry yeast', 'all purpose unbleached flour', 'salt', 'warm water', 'sugar'}\n",
      "{'french', 'vietnamese'}\n",
      "\n",
      "{'rice noodles', 'carrots', 'sesame oil', 'napa cabbage', 'soy sauce', 'green onions', 'garlic chili sauce', 'brown sugar', 'medium shrimp uncook'}\n",
      "{'japanese', 'chinese'}\n",
      "\n"
     ]
    }
   ],
   "source": [
    "for el in repeat_ingred_list.index:\n",
    "    cuisine_set = set(recipes_df.loc[recipes_df.ingred_set == el, 'cuisine'])\n",
    "    if (len(cuisine_set) != 1):\n",
    "        print(el)\n",
    "        print(str(cuisine_set)+'\\n')\n",
    "        "
   ]
  },
  {
   "cell_type": "code",
   "execution_count": 43,
   "metadata": {},
   "outputs": [
    {
     "data": {
      "text/plain": [
       "Index(['id', 'cuisine', 'ingredients', 'ingredients_string',\n",
       "       'ingred_processed', 'ingred_set'],\n",
       "      dtype='object')"
      ]
     },
     "execution_count": 43,
     "metadata": {},
     "output_type": "execute_result"
    }
   ],
   "source": [
    "recipes_df.columns"
   ]
  },
  {
   "cell_type": "markdown",
   "metadata": {},
   "source": [
    "Find ingredients containing \"tomat\""
   ]
  },
  {
   "cell_type": "code",
   "execution_count": 65,
   "metadata": {},
   "outputs": [],
   "source": [
    "tomat_terms = list()\n",
    "for row in recipes_df['ingred_processed']:\n",
    "#     print(row)\n",
    "    term = [ingredient for ingredient in row if 'tomat' in ingredient]\n",
    "    tomat_terms += term\n",
    "\n",
    "tomat_series = pd.Series(tomat_terms).value_counts()[:50]\n",
    "# set(tomat_terms)\n",
    "# words = pd.DataFrame(rows, columns=['book', 'word'])\n",
    "# words.head()"
   ]
  },
  {
   "cell_type": "code",
   "execution_count": 45,
   "metadata": {},
   "outputs": [],
   "source": [
    "recipes_df['ingred_proc_string'] = recipes_df.ingred_processed.str.join(' ')"
   ]
  },
  {
   "cell_type": "code",
   "execution_count": 46,
   "metadata": {},
   "outputs": [],
   "source": [
    "X_train, X_test, y_train, y_test = train_test_split(recipes_df.ingred_proc_string, recipes_df.cuisine, test_size=0.2,\n",
    "                                                   random_state=123)"
   ]
  },
  {
   "cell_type": "code",
   "execution_count": 47,
   "metadata": {},
   "outputs": [],
   "source": [
    "from sklearn.feature_extraction.text import TfidfTransformer\n",
    "from sklearn.feature_extraction.text import TfidfVectorizer"
   ]
  },
  {
   "cell_type": "code",
   "execution_count": 48,
   "metadata": {},
   "outputs": [
    {
     "name": "stdout",
     "output_type": "stream",
     "text": [
      "(31819, 2939) (7955, 2939)\n"
     ]
    }
   ],
   "source": [
    "vectorizer = TfidfVectorizer()\n",
    "train_vectors = vectorizer.fit_transform(X_train)\n",
    "test_vectors = vectorizer.transform(X_test)\n",
    "print(train_vectors.shape, test_vectors.shape)"
   ]
  },
  {
   "cell_type": "code",
   "execution_count": 49,
   "metadata": {},
   "outputs": [],
   "source": [
    "from sklearn.naive_bayes import MultinomialNB"
   ]
  },
  {
   "cell_type": "code",
   "execution_count": 50,
   "metadata": {},
   "outputs": [],
   "source": [
    "clf = MultinomialNB().fit(train_vectors, y_train)"
   ]
  },
  {
   "cell_type": "code",
   "execution_count": 51,
   "metadata": {},
   "outputs": [
    {
     "name": "stdout",
     "output_type": "stream",
     "text": [
      "0.6691389063482087\n"
     ]
    }
   ],
   "source": [
    "from  sklearn.metrics  import accuracy_score\n",
    "predicted = clf.predict(test_vectors)\n",
    "print(accuracy_score(y_test,predicted))"
   ]
  },
  {
   "cell_type": "markdown",
   "metadata": {},
   "source": [
    "All that processing - getting rid of duplicates in the ingredients lists did NOTHING!"
   ]
  },
  {
   "cell_type": "code",
   "execution_count": null,
   "metadata": {},
   "outputs": [],
   "source": []
  },
  {
   "cell_type": "code",
   "execution_count": 52,
   "metadata": {},
   "outputs": [],
   "source": [
    "from sklearn.ensemble import RandomForestClassifier"
   ]
  },
  {
   "cell_type": "code",
   "execution_count": 53,
   "metadata": {},
   "outputs": [],
   "source": [
    "clf = RandomForestClassifier(n_estimators=50).fit(train_vectors, y_train)"
   ]
  },
  {
   "cell_type": "code",
   "execution_count": 54,
   "metadata": {},
   "outputs": [
    {
     "name": "stdout",
     "output_type": "stream",
     "text": [
      "0.7382778126964173\n"
     ]
    }
   ],
   "source": [
    "from  sklearn.metrics  import accuracy_score\n",
    "predicted = clf.predict(test_vectors)\n",
    "print(accuracy_score(y_test,predicted))"
   ]
  },
  {
   "cell_type": "code",
   "execution_count": null,
   "metadata": {},
   "outputs": [],
   "source": []
  },
  {
   "cell_type": "markdown",
   "metadata": {},
   "source": [
    "## Stemming!"
   ]
  },
  {
   "cell_type": "code",
   "execution_count": 55,
   "metadata": {},
   "outputs": [],
   "source": [
    "from nltk.stem import PorterStemmer\n",
    "from nltk.stem import LancasterStemmer"
   ]
  },
  {
   "cell_type": "code",
   "execution_count": 56,
   "metadata": {},
   "outputs": [
    {
     "data": {
      "text/html": [
       "<div>\n",
       "<style scoped>\n",
       "    .dataframe tbody tr th:only-of-type {\n",
       "        vertical-align: middle;\n",
       "    }\n",
       "\n",
       "    .dataframe tbody tr th {\n",
       "        vertical-align: top;\n",
       "    }\n",
       "\n",
       "    .dataframe thead th {\n",
       "        text-align: right;\n",
       "    }\n",
       "</style>\n",
       "<table border=\"1\" class=\"dataframe\">\n",
       "  <thead>\n",
       "    <tr style=\"text-align: right;\">\n",
       "      <th></th>\n",
       "      <th>id</th>\n",
       "      <th>cuisine</th>\n",
       "      <th>ingredients</th>\n",
       "      <th>ingredients_string</th>\n",
       "      <th>ingred_processed</th>\n",
       "      <th>ingred_set</th>\n",
       "      <th>ingred_proc_string</th>\n",
       "    </tr>\n",
       "  </thead>\n",
       "  <tbody>\n",
       "    <tr>\n",
       "      <th>0</th>\n",
       "      <td>10259</td>\n",
       "      <td>greek</td>\n",
       "      <td>[romaine lettuce, black olives, grape tomatoes...</td>\n",
       "      <td>romaine lettuce black olives grape tomatoes ga...</td>\n",
       "      <td>[grape tomatoes, purple onion, romaine lettuce...</td>\n",
       "      <td>{grape tomatoes, purple onion, romaine lettuce...</td>\n",
       "      <td>grape tomatoes purple onion romaine lettuce ga...</td>\n",
       "    </tr>\n",
       "    <tr>\n",
       "      <th>1</th>\n",
       "      <td>25693</td>\n",
       "      <td>southern_us</td>\n",
       "      <td>[plain flour, ground pepper, salt, tomatoes, g...</td>\n",
       "      <td>plain flour ground pepper salt tomatoes ground...</td>\n",
       "      <td>[green tomatoes, salt, vegetable oil, ground p...</td>\n",
       "      <td>{green tomatoes, salt, vegetable oil, ground p...</td>\n",
       "      <td>green tomatoes salt vegetable oil ground peppe...</td>\n",
       "    </tr>\n",
       "    <tr>\n",
       "      <th>2</th>\n",
       "      <td>20130</td>\n",
       "      <td>filipino</td>\n",
       "      <td>[eggs, pepper, salt, mayonaise, cooking oil, g...</td>\n",
       "      <td>eggs pepper salt mayonaise cooking oil green c...</td>\n",
       "      <td>[mayonaise, salt, yellow onion, butter, chicke...</td>\n",
       "      <td>{mayonaise, chicken livers, butter, salt, yell...</td>\n",
       "      <td>mayonaise salt yellow onion butter chicken liv...</td>\n",
       "    </tr>\n",
       "    <tr>\n",
       "      <th>3</th>\n",
       "      <td>22213</td>\n",
       "      <td>indian</td>\n",
       "      <td>[water, vegetable oil, wheat, salt]</td>\n",
       "      <td>water vegetable oil wheat salt</td>\n",
       "      <td>[water, vegetable oil, salt, wheat]</td>\n",
       "      <td>{water, vegetable oil, salt, wheat}</td>\n",
       "      <td>water vegetable oil salt wheat</td>\n",
       "    </tr>\n",
       "    <tr>\n",
       "      <th>4</th>\n",
       "      <td>13162</td>\n",
       "      <td>indian</td>\n",
       "      <td>[black pepper, shallots, cornflour, cayenne pe...</td>\n",
       "      <td>black pepper shallots cornflour cayenne pepper...</td>\n",
       "      <td>[onions, water, garam masala, lemon juice, nat...</td>\n",
       "      <td>{onions, water, garam masala, lemon juice, nat...</td>\n",
       "      <td>onions water garam masala lemon juice natural ...</td>\n",
       "    </tr>\n",
       "    <tr>\n",
       "      <th>5</th>\n",
       "      <td>6602</td>\n",
       "      <td>jamaican</td>\n",
       "      <td>[plain flour, sugar, butter, eggs, fresh ginge...</td>\n",
       "      <td>plain flour sugar butter eggs fresh ginger roo...</td>\n",
       "      <td>[baking powder, salt, butter, vanilla extract,...</td>\n",
       "      <td>{baking powder, milk, salt, butter, vanilla ex...</td>\n",
       "      <td>baking powder salt butter vanilla extract powd...</td>\n",
       "    </tr>\n",
       "    <tr>\n",
       "      <th>6</th>\n",
       "      <td>42779</td>\n",
       "      <td>spanish</td>\n",
       "      <td>[olive oil, salt, medium shrimp, pepper, garli...</td>\n",
       "      <td>olive oil salt medium shrimp pepper garlic cho...</td>\n",
       "      <td>[jalapeno chilies, skirt steak, white vinegar,...</td>\n",
       "      <td>{jalapeno chilies, skirt steak, sea salt, whit...</td>\n",
       "      <td>jalapeno chilies skirt steak white vinegar sea...</td>\n",
       "    </tr>\n",
       "    <tr>\n",
       "      <th>7</th>\n",
       "      <td>3735</td>\n",
       "      <td>italian</td>\n",
       "      <td>[sugar, pistachio nuts, white almond bark, flo...</td>\n",
       "      <td>sugar pistachio nuts white almond bark flour v...</td>\n",
       "      <td>[baking powder, almond extract, vanilla extrac...</td>\n",
       "      <td>{baking powder, almond extract, vanilla extrac...</td>\n",
       "      <td>baking powder almond extract vanilla extract p...</td>\n",
       "    </tr>\n",
       "    <tr>\n",
       "      <th>8</th>\n",
       "      <td>16903</td>\n",
       "      <td>mexican</td>\n",
       "      <td>[olive oil, purple onion, fresh pineapple, por...</td>\n",
       "      <td>olive oil purple onion fresh pineapple pork po...</td>\n",
       "      <td>[jalapeno chilies, salt, chopped cilantro fres...</td>\n",
       "      <td>{jalapeno chilies, iceberg lettuce, salt, pobl...</td>\n",
       "      <td>jalapeno chilies salt chopped cilantro fresh p...</td>\n",
       "    </tr>\n",
       "    <tr>\n",
       "      <th>9</th>\n",
       "      <td>12734</td>\n",
       "      <td>italian</td>\n",
       "      <td>[chopped tomatoes, fresh basil, garlic, extra-...</td>\n",
       "      <td>chopped tomatoes fresh basil garlic extra-virg...</td>\n",
       "      <td>[kosher salt, chopped tomatoes, flat leaf pars...</td>\n",
       "      <td>{kosher salt, chopped tomatoes, flat leaf pars...</td>\n",
       "      <td>kosher salt chopped tomatoes flat leaf parsley...</td>\n",
       "    </tr>\n",
       "    <tr>\n",
       "      <th>10</th>\n",
       "      <td>5875</td>\n",
       "      <td>italian</td>\n",
       "      <td>[pimentos, sweet pepper, dried oregano, olive ...</td>\n",
       "      <td>pimentos sweet pepper dried oregano olive oil ...</td>\n",
       "      <td>[sausages, sharp cheddar cheese, provolone che...</td>\n",
       "      <td>{sausages, sharp cheddar cheese, provolone che...</td>\n",
       "      <td>sausages sharp cheddar cheese provolone cheese...</td>\n",
       "    </tr>\n",
       "    <tr>\n",
       "      <th>11</th>\n",
       "      <td>45887</td>\n",
       "      <td>chinese</td>\n",
       "      <td>[low sodium soy sauce, fresh ginger, dry musta...</td>\n",
       "      <td>low sodium soy sauce fresh ginger dry mustard ...</td>\n",
       "      <td>[shaoxing wine, corn starch, low sodium soy sa...</td>\n",
       "      <td>{shaoxing wine, corn starch, low sodium soy sa...</td>\n",
       "      <td>shaoxing wine corn starch low sodium soy sauce...</td>\n",
       "    </tr>\n",
       "    <tr>\n",
       "      <th>12</th>\n",
       "      <td>2698</td>\n",
       "      <td>italian</td>\n",
       "      <td>[Italian parsley leaves, walnuts, hot red pepp...</td>\n",
       "      <td>Italian parsley leaves walnuts hot red pepper ...</td>\n",
       "      <td>[trout fillet, italian parsley leaves, walnuts...</td>\n",
       "      <td>{trout fillet, italian parsley leaves, walnuts...</td>\n",
       "      <td>trout fillet italian parsley leaves walnuts ho...</td>\n",
       "    </tr>\n",
       "    <tr>\n",
       "      <th>13</th>\n",
       "      <td>41995</td>\n",
       "      <td>mexican</td>\n",
       "      <td>[ground cinnamon, fresh cilantro, chili powder...</td>\n",
       "      <td>ground cinnamon fresh cilantro chili powder gr...</td>\n",
       "      <td>[onions, ground coriander, chili powder, salt,...</td>\n",
       "      <td>{onions, ground coriander, chili powder, salt,...</td>\n",
       "      <td>onions ground coriander chili powder salt kosh...</td>\n",
       "    </tr>\n",
       "    <tr>\n",
       "      <th>14</th>\n",
       "      <td>31908</td>\n",
       "      <td>italian</td>\n",
       "      <td>[fresh parmesan cheese, butter, all-purpose fl...</td>\n",
       "      <td>fresh parmesan cheese butter all-purpose flour...</td>\n",
       "      <td>[gruyere cheese, allpurpose flour, butter, coo...</td>\n",
       "      <td>{gruyere cheese, salt, cooking spray, allpurpo...</td>\n",
       "      <td>gruyere cheese allpurpose flour butter cooking...</td>\n",
       "    </tr>\n",
       "    <tr>\n",
       "      <th>15</th>\n",
       "      <td>24717</td>\n",
       "      <td>indian</td>\n",
       "      <td>[tumeric, vegetable stock, tomatoes, garam mas...</td>\n",
       "      <td>tumeric vegetable stock tomatoes garam masala ...</td>\n",
       "      <td>[onions, vegetable stock, tumeric, naan, garam...</td>\n",
       "      <td>{onions, vegetable stock, tumeric, naan, garam...</td>\n",
       "      <td>onions vegetable stock tumeric naan garam masa...</td>\n",
       "    </tr>\n",
       "    <tr>\n",
       "      <th>16</th>\n",
       "      <td>34466</td>\n",
       "      <td>british</td>\n",
       "      <td>[greek yogurt, lemon curd, confectioners sugar...</td>\n",
       "      <td>greek yogurt lemon curd confectioners sugar ra...</td>\n",
       "      <td>[lemon curd, confectioners sugar, raspberries,...</td>\n",
       "      <td>{lemon curd, confectioners sugar, greek yogurt...</td>\n",
       "      <td>lemon curd confectioners sugar raspberries gre...</td>\n",
       "    </tr>\n",
       "    <tr>\n",
       "      <th>17</th>\n",
       "      <td>1420</td>\n",
       "      <td>italian</td>\n",
       "      <td>[italian seasoning, broiler-fryer chicken, may...</td>\n",
       "      <td>italian seasoning broiler-fryer chicken mayona...</td>\n",
       "      <td>[italian seasoning, mayonaise, broilerfryer ch...</td>\n",
       "      <td>{italian seasoning, mayonaise, broilerfryer ch...</td>\n",
       "      <td>italian seasoning mayonaise broilerfryer chick...</td>\n",
       "    </tr>\n",
       "    <tr>\n",
       "      <th>18</th>\n",
       "      <td>2941</td>\n",
       "      <td>thai</td>\n",
       "      <td>[sugar, hot chili, asian fish sauce, lime juice]</td>\n",
       "      <td>sugar hot chili asian fish sauce lime juice</td>\n",
       "      <td>[hot chili, sugar, lime juice, asian fish sauce]</td>\n",
       "      <td>{hot chili, sugar, lime juice, asian fish sauce}</td>\n",
       "      <td>hot chili sugar lime juice asian fish sauce</td>\n",
       "    </tr>\n",
       "    <tr>\n",
       "      <th>19</th>\n",
       "      <td>8152</td>\n",
       "      <td>vietnamese</td>\n",
       "      <td>[soy sauce, vegetable oil, red bell pepper, ch...</td>\n",
       "      <td>soy sauce vegetable oil red bell pepper chicke...</td>\n",
       "      <td>[broccolini, chicken broth, salt, corn starch,...</td>\n",
       "      <td>{broccolini, chicken broth, salt, corn starch,...</td>\n",
       "      <td>broccolini chicken broth salt corn starch cook...</td>\n",
       "    </tr>\n",
       "    <tr>\n",
       "      <th>20</th>\n",
       "      <td>13121</td>\n",
       "      <td>thai</td>\n",
       "      <td>[pork loin, roasted peanuts, chopped cilantro ...</td>\n",
       "      <td>pork loin roasted peanuts chopped cilantro fre...</td>\n",
       "      <td>[rice, rice noodles, hoisin sauce, chopped fre...</td>\n",
       "      <td>{rice, rice noodles, hoisin sauce, chopped fre...</td>\n",
       "      <td>rice rice noodles hoisin sauce chopped fresh m...</td>\n",
       "    </tr>\n",
       "    <tr>\n",
       "      <th>21</th>\n",
       "      <td>40523</td>\n",
       "      <td>mexican</td>\n",
       "      <td>[roma tomatoes, kosher salt, purple onion, jal...</td>\n",
       "      <td>roma tomatoes kosher salt purple onion jalapen...</td>\n",
       "      <td>[jalapeno chilies, roma tomatoes, kosher salt,...</td>\n",
       "      <td>{jalapeno chilies, roma tomatoes, kosher salt,...</td>\n",
       "      <td>jalapeno chilies roma tomatoes kosher salt pur...</td>\n",
       "    </tr>\n",
       "    <tr>\n",
       "      <th>22</th>\n",
       "      <td>40989</td>\n",
       "      <td>southern_us</td>\n",
       "      <td>[low-fat mayonnaise, pepper, salt, baking pota...</td>\n",
       "      <td>low-fat mayonnaise pepper salt baking potatoes...</td>\n",
       "      <td>[salt, spicy brown mustard, lowfat mayonnaise,...</td>\n",
       "      <td>{spicy brown mustard, salt, lowfat mayonnaise,...</td>\n",
       "      <td>salt spicy brown mustard lowfat mayonnaise egg...</td>\n",
       "    </tr>\n",
       "    <tr>\n",
       "      <th>23</th>\n",
       "      <td>29630</td>\n",
       "      <td>chinese</td>\n",
       "      <td>[sesame seeds, red pepper, yellow peppers, wat...</td>\n",
       "      <td>sesame seeds red pepper yellow peppers water e...</td>\n",
       "      <td>[extra firm tofu, arrowroot powder, water, fre...</td>\n",
       "      <td>{extra firm tofu, arrowroot powder, water, fre...</td>\n",
       "      <td>extra firm tofu arrowroot powder water fresh g...</td>\n",
       "    </tr>\n",
       "    <tr>\n",
       "      <th>24</th>\n",
       "      <td>49136</td>\n",
       "      <td>italian</td>\n",
       "      <td>[marinara sauce, flat leaf parsley, olive oil,...</td>\n",
       "      <td>marinara sauce flat leaf parsley olive oil lin...</td>\n",
       "      <td>[marinara sauce, linguine, olives, flat leaf p...</td>\n",
       "      <td>{marinara sauce, linguine, lemon zest, flat le...</td>\n",
       "      <td>marinara sauce linguine olives flat leaf parsl...</td>\n",
       "    </tr>\n",
       "    <tr>\n",
       "      <th>25</th>\n",
       "      <td>26705</td>\n",
       "      <td>chinese</td>\n",
       "      <td>[sugar, lo mein noodles, salt, chicken broth, ...</td>\n",
       "      <td>sugar lo mein noodles salt chicken broth light...</td>\n",
       "      <td>[lo mein noodles, chicken broth, light soy sau...</td>\n",
       "      <td>{lo mein noodles, chicken broth, dark soy sauc...</td>\n",
       "      <td>lo mein noodles chicken broth light soy sauce ...</td>\n",
       "    </tr>\n",
       "    <tr>\n",
       "      <th>26</th>\n",
       "      <td>27976</td>\n",
       "      <td>cajun_creole</td>\n",
       "      <td>[herbs, lemon juice, fresh tomatoes, paprika, ...</td>\n",
       "      <td>herbs lemon juice fresh tomatoes paprika mango...</td>\n",
       "      <td>[stock, onions, chile pepper, paprika, oil, ma...</td>\n",
       "      <td>{stock, onions, chile pepper, paprika, fresh t...</td>\n",
       "      <td>stock onions chile pepper paprika oil mango le...</td>\n",
       "    </tr>\n",
       "    <tr>\n",
       "      <th>27</th>\n",
       "      <td>22087</td>\n",
       "      <td>italian</td>\n",
       "      <td>[ground black pepper, butter, sliced mushrooms...</td>\n",
       "      <td>ground black pepper butter sliced mushrooms sh...</td>\n",
       "      <td>[sliced mushrooms, chicken broth, salt, butter...</td>\n",
       "      <td>{sliced mushrooms, chicken broth, allpurpose f...</td>\n",
       "      <td>sliced mushrooms chicken broth salt butter all...</td>\n",
       "    </tr>\n",
       "    <tr>\n",
       "      <th>28</th>\n",
       "      <td>9197</td>\n",
       "      <td>chinese</td>\n",
       "      <td>[green bell pepper, egg roll wrappers, sweet a...</td>\n",
       "      <td>green bell pepper egg roll wrappers sweet and ...</td>\n",
       "      <td>[onions, sweet and sour sauce, corn starch, ca...</td>\n",
       "      <td>{onions, green bell pepper, sweet and sour sau...</td>\n",
       "      <td>onions sweet and sour sauce corn starch carrot...</td>\n",
       "    </tr>\n",
       "    <tr>\n",
       "      <th>29</th>\n",
       "      <td>1299</td>\n",
       "      <td>mexican</td>\n",
       "      <td>[flour tortillas, cheese, breakfast sausages, ...</td>\n",
       "      <td>flour tortillas cheese breakfast sausages larg...</td>\n",
       "      <td>[flour tortillas, large eggs, breakfast sausag...</td>\n",
       "      <td>{flour tortillas, large eggs, breakfast sausag...</td>\n",
       "      <td>flour tortillas large eggs breakfast sausages ...</td>\n",
       "    </tr>\n",
       "    <tr>\n",
       "      <th>...</th>\n",
       "      <td>...</td>\n",
       "      <td>...</td>\n",
       "      <td>...</td>\n",
       "      <td>...</td>\n",
       "      <td>...</td>\n",
       "      <td>...</td>\n",
       "      <td>...</td>\n",
       "    </tr>\n",
       "    <tr>\n",
       "      <th>39744</th>\n",
       "      <td>5680</td>\n",
       "      <td>greek</td>\n",
       "      <td>[extra-virgin olive oil, oregano, potatoes, ga...</td>\n",
       "      <td>extra-virgin olive oil oregano potatoes garlic...</td>\n",
       "      <td>[potatoes, yellow mustard, salt, oregano, pepp...</td>\n",
       "      <td>{yellow mustard, potatoes, salt, oregano, pepp...</td>\n",
       "      <td>potatoes yellow mustard salt oregano pepper fr...</td>\n",
       "    </tr>\n",
       "    <tr>\n",
       "      <th>39745</th>\n",
       "      <td>5511</td>\n",
       "      <td>spanish</td>\n",
       "      <td>[quinoa, extra-virgin olive oil, fresh thyme l...</td>\n",
       "      <td>quinoa extra-virgin olive oil fresh thyme leav...</td>\n",
       "      <td>[quinoa, fresh thyme leaves, extravirgin olive...</td>\n",
       "      <td>{quinoa, fresh thyme leaves, extravirgin olive...</td>\n",
       "      <td>quinoa fresh thyme leaves extravirgin olive oi...</td>\n",
       "    </tr>\n",
       "    <tr>\n",
       "      <th>39746</th>\n",
       "      <td>32051</td>\n",
       "      <td>indian</td>\n",
       "      <td>[clove, bay leaves, ginger, chopped cilantro, ...</td>\n",
       "      <td>clove bay leaves ginger chopped cilantro groun...</td>\n",
       "      <td>[ground coriander, cardamom pods, ginger, bay ...</td>\n",
       "      <td>{ground coriander, cardamom pods, ginger, bay ...</td>\n",
       "      <td>ground coriander cardamom pods ginger bay leav...</td>\n",
       "    </tr>\n",
       "    <tr>\n",
       "      <th>39747</th>\n",
       "      <td>5119</td>\n",
       "      <td>moroccan</td>\n",
       "      <td>[water, sugar, grated lemon zest, butter, pitt...</td>\n",
       "      <td>water sugar grated lemon zest butter pitted da...</td>\n",
       "      <td>[pitted date, butter, water, grated lemon zest...</td>\n",
       "      <td>{pitted date, butter, water, grated lemon zest...</td>\n",
       "      <td>pitted date butter water grated lemon zest bla...</td>\n",
       "    </tr>\n",
       "    <tr>\n",
       "      <th>39748</th>\n",
       "      <td>9526</td>\n",
       "      <td>italian</td>\n",
       "      <td>[sea salt, pizza doughs, all-purpose flour, co...</td>\n",
       "      <td>sea salt pizza doughs all-purpose flour cornme...</td>\n",
       "      <td>[cornmeal, sea salt, allpurpose flour, pizza d...</td>\n",
       "      <td>{cornmeal, sea salt, allpurpose flour, pizza d...</td>\n",
       "      <td>cornmeal sea salt allpurpose flour pizza dough...</td>\n",
       "    </tr>\n",
       "    <tr>\n",
       "      <th>39749</th>\n",
       "      <td>45599</td>\n",
       "      <td>mexican</td>\n",
       "      <td>[kosher salt, minced onion, tortilla chips, su...</td>\n",
       "      <td>kosher salt minced onion tortilla chips sugar ...</td>\n",
       "      <td>[roma tomatoes, tortilla chips, mexican oregan...</td>\n",
       "      <td>{mexican oregano, roma tomatoes, tortilla chip...</td>\n",
       "      <td>roma tomatoes tortilla chips mexican oregano k...</td>\n",
       "    </tr>\n",
       "    <tr>\n",
       "      <th>39750</th>\n",
       "      <td>49670</td>\n",
       "      <td>mexican</td>\n",
       "      <td>[ground black pepper, chicken breasts, salsa, ...</td>\n",
       "      <td>ground black pepper chicken breasts salsa ched...</td>\n",
       "      <td>[tortilla chips, chili powder, pepper jack, ko...</td>\n",
       "      <td>{tortilla chips, chili powder, pepper jack, ko...</td>\n",
       "      <td>tortilla chips chili powder pepper jack kosher...</td>\n",
       "    </tr>\n",
       "    <tr>\n",
       "      <th>39751</th>\n",
       "      <td>30735</td>\n",
       "      <td>moroccan</td>\n",
       "      <td>[olive oil, cayenne pepper, chopped cilantro f...</td>\n",
       "      <td>olive oil cayenne pepper chopped cilantro fres...</td>\n",
       "      <td>[low salt chicken broth, paprika, fine sea sal...</td>\n",
       "      <td>{paprika, fine sea salt, chopped cilantro fres...</td>\n",
       "      <td>low salt chicken broth paprika fine sea salt b...</td>\n",
       "    </tr>\n",
       "    <tr>\n",
       "      <th>39752</th>\n",
       "      <td>5911</td>\n",
       "      <td>southern_us</td>\n",
       "      <td>[self rising flour, milk, white sugar, butter,...</td>\n",
       "      <td>self rising flour milk white sugar butter peac...</td>\n",
       "      <td>[peaches in light syrup, butter, milk, self ri...</td>\n",
       "      <td>{peaches in light syrup, butter, milk, self ri...</td>\n",
       "      <td>peaches in light syrup butter milk self rising...</td>\n",
       "    </tr>\n",
       "    <tr>\n",
       "      <th>39753</th>\n",
       "      <td>33294</td>\n",
       "      <td>italian</td>\n",
       "      <td>[rosemary sprigs, lemon zest, garlic cloves, g...</td>\n",
       "      <td>rosemary sprigs lemon zest garlic cloves groun...</td>\n",
       "      <td>[fresh basil leaves, vegetable broth, rosemary...</td>\n",
       "      <td>{fresh basil leaves, vegetable broth, artichok...</td>\n",
       "      <td>fresh basil leaves vegetable broth rosemary sp...</td>\n",
       "    </tr>\n",
       "    <tr>\n",
       "      <th>39754</th>\n",
       "      <td>27082</td>\n",
       "      <td>vietnamese</td>\n",
       "      <td>[jasmine rice, bay leaves, sticky rice, rotiss...</td>\n",
       "      <td>jasmine rice bay leaves sticky rice rotisserie...</td>\n",
       "      <td>[rotisserie chicken, salt, yellow onion, carro...</td>\n",
       "      <td>{rotisserie chicken, salt, yellow onion, carro...</td>\n",
       "      <td>rotisserie chicken salt yellow onion carrots v...</td>\n",
       "    </tr>\n",
       "    <tr>\n",
       "      <th>39755</th>\n",
       "      <td>36337</td>\n",
       "      <td>indian</td>\n",
       "      <td>[mint leaves, cilantro leaves, ghee, tomatoes,...</td>\n",
       "      <td>mint leaves cilantro leaves ghee tomatoes cinn...</td>\n",
       "      <td>[basmati rice, onions, salt, green chilies, ga...</td>\n",
       "      <td>{basmati rice, onions, salt, green chilies, ga...</td>\n",
       "      <td>basmati rice onions salt green chilies garlic ...</td>\n",
       "    </tr>\n",
       "    <tr>\n",
       "      <th>39756</th>\n",
       "      <td>15508</td>\n",
       "      <td>mexican</td>\n",
       "      <td>[vegetable oil, cinnamon sticks, water, all-pu...</td>\n",
       "      <td>vegetable oil cinnamon sticks water all-purpos...</td>\n",
       "      <td>[cinnamon sticks, baking powder, allpurpose fl...</td>\n",
       "      <td>{cinnamon sticks, baking powder, salt, allpurp...</td>\n",
       "      <td>cinnamon sticks baking powder allpurpose flour...</td>\n",
       "    </tr>\n",
       "    <tr>\n",
       "      <th>39757</th>\n",
       "      <td>34331</td>\n",
       "      <td>greek</td>\n",
       "      <td>[red bell pepper, garlic cloves, extra-virgin ...</td>\n",
       "      <td>red bell pepper garlic cloves extra-virgin oli...</td>\n",
       "      <td>[garlic cloves, red bell pepper, extravirgin o...</td>\n",
       "      <td>{garlic cloves, red bell pepper, extravirgin o...</td>\n",
       "      <td>garlic cloves red bell pepper extravirgin oliv...</td>\n",
       "    </tr>\n",
       "    <tr>\n",
       "      <th>39758</th>\n",
       "      <td>47387</td>\n",
       "      <td>greek</td>\n",
       "      <td>[milk, salt, ground cayenne pepper, ground lam...</td>\n",
       "      <td>milk salt ground cayenne pepper ground lamb gr...</td>\n",
       "      <td>[ground lamb, chopped fresh mint, ground coria...</td>\n",
       "      <td>{ground lamb, chopped fresh mint, ground coria...</td>\n",
       "      <td>ground lamb chopped fresh mint ground coriande...</td>\n",
       "    </tr>\n",
       "    <tr>\n",
       "      <th>39759</th>\n",
       "      <td>12153</td>\n",
       "      <td>korean</td>\n",
       "      <td>[red chili peppers, sea salt, onions, water, c...</td>\n",
       "      <td>red chili peppers sea salt onions water chilli...</td>\n",
       "      <td>[caster sugar, onions, white vinegar, sea salt...</td>\n",
       "      <td>{caster sugar, onions, white vinegar, sea salt...</td>\n",
       "      <td>caster sugar onions white vinegar sea salt chi...</td>\n",
       "    </tr>\n",
       "    <tr>\n",
       "      <th>39760</th>\n",
       "      <td>41840</td>\n",
       "      <td>southern_us</td>\n",
       "      <td>[butter, large eggs, cornmeal, baking powder, ...</td>\n",
       "      <td>butter large eggs cornmeal baking powder boili...</td>\n",
       "      <td>[cornmeal, baking powder, salt, butter, large ...</td>\n",
       "      <td>{cornmeal, baking powder, salt, butter, large ...</td>\n",
       "      <td>cornmeal baking powder salt butter large eggs ...</td>\n",
       "    </tr>\n",
       "    <tr>\n",
       "      <th>39761</th>\n",
       "      <td>6487</td>\n",
       "      <td>chinese</td>\n",
       "      <td>[honey, chicken breast halves, cilantro leaves...</td>\n",
       "      <td>honey chicken breast halves cilantro leaves ca...</td>\n",
       "      <td>[shallots, carrots, kosher salt, fresh ginger,...</td>\n",
       "      <td>{shallots, carrots, kosher salt, fresh ginger,...</td>\n",
       "      <td>shallots carrots kosher salt fresh ginger hone...</td>\n",
       "    </tr>\n",
       "    <tr>\n",
       "      <th>39762</th>\n",
       "      <td>26646</td>\n",
       "      <td>indian</td>\n",
       "      <td>[curry powder, salt, chicken, water, vegetable...</td>\n",
       "      <td>curry powder salt chicken water vegetable oil ...</td>\n",
       "      <td>[basmati rice, curry powder, salt, water, vege...</td>\n",
       "      <td>{basmati rice, curry powder, salt, vegetable o...</td>\n",
       "      <td>basmati rice curry powder salt water vegetable...</td>\n",
       "    </tr>\n",
       "    <tr>\n",
       "      <th>39763</th>\n",
       "      <td>44798</td>\n",
       "      <td>italian</td>\n",
       "      <td>[fettuccine pasta, low-fat cream cheese, garli...</td>\n",
       "      <td>fettuccine pasta low-fat cream cheese garlic n...</td>\n",
       "      <td>[nonfat evaporated milk, corn starch, lowfat c...</td>\n",
       "      <td>{nonfat evaporated milk, corn starch, lowfat c...</td>\n",
       "      <td>nonfat evaporated milk corn starch lowfat crea...</td>\n",
       "    </tr>\n",
       "    <tr>\n",
       "      <th>39764</th>\n",
       "      <td>8089</td>\n",
       "      <td>mexican</td>\n",
       "      <td>[chili powder, worcestershire sauce, celery, r...</td>\n",
       "      <td>chili powder worcestershire sauce celery red k...</td>\n",
       "      <td>[dried basil, worcestershire sauce, chili powd...</td>\n",
       "      <td>{dried basil, worcestershire sauce, chili powd...</td>\n",
       "      <td>dried basil worcestershire sauce chili powder ...</td>\n",
       "    </tr>\n",
       "    <tr>\n",
       "      <th>39765</th>\n",
       "      <td>6153</td>\n",
       "      <td>indian</td>\n",
       "      <td>[coconut, unsweetened coconut milk, mint leave...</td>\n",
       "      <td>coconut unsweetened coconut milk mint leaves p...</td>\n",
       "      <td>[plain yogurt, mint leaves, unsweetened coconu...</td>\n",
       "      <td>{plain yogurt, mint leaves, coconut, unsweeten...</td>\n",
       "      <td>plain yogurt mint leaves unsweetened coconut m...</td>\n",
       "    </tr>\n",
       "    <tr>\n",
       "      <th>39766</th>\n",
       "      <td>25557</td>\n",
       "      <td>irish</td>\n",
       "      <td>[rutabaga, ham, thick-cut bacon, potatoes, fre...</td>\n",
       "      <td>rutabaga ham thick-cut bacon potatoes fresh pa...</td>\n",
       "      <td>[onions, potatoes, carrots, thickcut bacon, sa...</td>\n",
       "      <td>{onions, potatoes, carrots, salt, thickcut bac...</td>\n",
       "      <td>onions potatoes carrots thickcut bacon salt ha...</td>\n",
       "    </tr>\n",
       "    <tr>\n",
       "      <th>39767</th>\n",
       "      <td>24348</td>\n",
       "      <td>italian</td>\n",
       "      <td>[low-fat sour cream, grated parmesan cheese, s...</td>\n",
       "      <td>low-fat sour cream grated parmesan cheese salt...</td>\n",
       "      <td>[onions, lowfat sour cream, lowfat cottage che...</td>\n",
       "      <td>{onions, lowfat sour cream, lowfat cottage che...</td>\n",
       "      <td>onions lowfat sour cream lowfat cottage cheese...</td>\n",
       "    </tr>\n",
       "    <tr>\n",
       "      <th>39768</th>\n",
       "      <td>7377</td>\n",
       "      <td>mexican</td>\n",
       "      <td>[shredded cheddar cheese, crushed cheese crack...</td>\n",
       "      <td>shredded cheddar cheese crushed cheese cracker...</td>\n",
       "      <td>[cream of chicken soup, salt, shredded cheddar...</td>\n",
       "      <td>{cream of chicken soup, salt, shredded cheddar...</td>\n",
       "      <td>cream of chicken soup salt shredded cheddar ch...</td>\n",
       "    </tr>\n",
       "    <tr>\n",
       "      <th>39769</th>\n",
       "      <td>29109</td>\n",
       "      <td>irish</td>\n",
       "      <td>[light brown sugar, granulated sugar, butter, ...</td>\n",
       "      <td>light brown sugar granulated sugar butter warm...</td>\n",
       "      <td>[granulated sugar, allpurpose flour, butter, c...</td>\n",
       "      <td>{steelcut oats, granulated sugar, cooking spra...</td>\n",
       "      <td>granulated sugar allpurpose flour butter cooki...</td>\n",
       "    </tr>\n",
       "    <tr>\n",
       "      <th>39770</th>\n",
       "      <td>11462</td>\n",
       "      <td>italian</td>\n",
       "      <td>[KRAFT Zesty Italian Dressing, purple onion, b...</td>\n",
       "      <td>KRAFT Zesty Italian Dressing purple onion broc...</td>\n",
       "      <td>[pitted black olives, purple onion, kraft zest...</td>\n",
       "      <td>{pitted black olives, purple onion, rotini, br...</td>\n",
       "      <td>pitted black olives purple onion kraft zesty i...</td>\n",
       "    </tr>\n",
       "    <tr>\n",
       "      <th>39771</th>\n",
       "      <td>2238</td>\n",
       "      <td>irish</td>\n",
       "      <td>[eggs, citrus fruit, raisins, sourdough starte...</td>\n",
       "      <td>eggs citrus fruit raisins sourdough starter fl...</td>\n",
       "      <td>[salt, ground nutmeg, citrus fruit, hot tea, b...</td>\n",
       "      <td>{salt, butter, hot tea, ground nutmeg, citrus ...</td>\n",
       "      <td>salt ground nutmeg citrus fruit hot tea butter...</td>\n",
       "    </tr>\n",
       "    <tr>\n",
       "      <th>39772</th>\n",
       "      <td>41882</td>\n",
       "      <td>chinese</td>\n",
       "      <td>[boneless chicken skinless thigh, minced garli...</td>\n",
       "      <td>boneless chicken skinless thigh minced garlic ...</td>\n",
       "      <td>[vodka, peanuts, fresh ginger, minced garlic, ...</td>\n",
       "      <td>{vodka, peanuts, fresh ginger, minced garlic, ...</td>\n",
       "      <td>vodka peanuts fresh ginger minced garlic toast...</td>\n",
       "    </tr>\n",
       "    <tr>\n",
       "      <th>39773</th>\n",
       "      <td>2362</td>\n",
       "      <td>mexican</td>\n",
       "      <td>[green chile, jalapeno chilies, onions, ground...</td>\n",
       "      <td>green chile jalapeno chilies onions ground bla...</td>\n",
       "      <td>[jalapeno chilies, onions, green bell pepper, ...</td>\n",
       "      <td>{jalapeno chilies, roma tomatoes, onions, salt...</td>\n",
       "      <td>jalapeno chilies onions green bell pepper roma...</td>\n",
       "    </tr>\n",
       "  </tbody>\n",
       "</table>\n",
       "<p>39774 rows × 7 columns</p>\n",
       "</div>"
      ],
      "text/plain": [
       "          id      cuisine                                        ingredients  \\\n",
       "0      10259        greek  [romaine lettuce, black olives, grape tomatoes...   \n",
       "1      25693  southern_us  [plain flour, ground pepper, salt, tomatoes, g...   \n",
       "2      20130     filipino  [eggs, pepper, salt, mayonaise, cooking oil, g...   \n",
       "3      22213       indian                [water, vegetable oil, wheat, salt]   \n",
       "4      13162       indian  [black pepper, shallots, cornflour, cayenne pe...   \n",
       "...      ...          ...                                                ...   \n",
       "39769  29109        irish  [light brown sugar, granulated sugar, butter, ...   \n",
       "39770  11462      italian  [KRAFT Zesty Italian Dressing, purple onion, b...   \n",
       "39771   2238        irish  [eggs, citrus fruit, raisins, sourdough starte...   \n",
       "39772  41882      chinese  [boneless chicken skinless thigh, minced garli...   \n",
       "39773   2362      mexican  [green chile, jalapeno chilies, onions, ground...   \n",
       "\n",
       "                                      ingredients_string  \\\n",
       "0      romaine lettuce black olives grape tomatoes ga...   \n",
       "1      plain flour ground pepper salt tomatoes ground...   \n",
       "2      eggs pepper salt mayonaise cooking oil green c...   \n",
       "3                         water vegetable oil wheat salt   \n",
       "4      black pepper shallots cornflour cayenne pepper...   \n",
       "...                                                  ...   \n",
       "39769  light brown sugar granulated sugar butter warm...   \n",
       "39770  KRAFT Zesty Italian Dressing purple onion broc...   \n",
       "39771  eggs citrus fruit raisins sourdough starter fl...   \n",
       "39772  boneless chicken skinless thigh minced garlic ...   \n",
       "39773  green chile jalapeno chilies onions ground bla...   \n",
       "\n",
       "                                        ingred_processed  \\\n",
       "0      [grape tomatoes, purple onion, romaine lettuce...   \n",
       "1      [green tomatoes, salt, vegetable oil, ground p...   \n",
       "2      [mayonaise, salt, yellow onion, butter, chicke...   \n",
       "3                    [water, vegetable oil, salt, wheat]   \n",
       "4      [onions, water, garam masala, lemon juice, nat...   \n",
       "...                                                  ...   \n",
       "39769  [granulated sugar, allpurpose flour, butter, c...   \n",
       "39770  [pitted black olives, purple onion, kraft zest...   \n",
       "39771  [salt, ground nutmeg, citrus fruit, hot tea, b...   \n",
       "39772  [vodka, peanuts, fresh ginger, minced garlic, ...   \n",
       "39773  [jalapeno chilies, onions, green bell pepper, ...   \n",
       "\n",
       "                                              ingred_set  \\\n",
       "0      {grape tomatoes, purple onion, romaine lettuce...   \n",
       "1      {green tomatoes, salt, vegetable oil, ground p...   \n",
       "2      {mayonaise, chicken livers, butter, salt, yell...   \n",
       "3                    {water, vegetable oil, salt, wheat}   \n",
       "4      {onions, water, garam masala, lemon juice, nat...   \n",
       "...                                                  ...   \n",
       "39769  {steelcut oats, granulated sugar, cooking spra...   \n",
       "39770  {pitted black olives, purple onion, rotini, br...   \n",
       "39771  {salt, butter, hot tea, ground nutmeg, citrus ...   \n",
       "39772  {vodka, peanuts, fresh ginger, minced garlic, ...   \n",
       "39773  {jalapeno chilies, roma tomatoes, onions, salt...   \n",
       "\n",
       "                                      ingred_proc_string  \n",
       "0      grape tomatoes purple onion romaine lettuce ga...  \n",
       "1      green tomatoes salt vegetable oil ground peppe...  \n",
       "2      mayonaise salt yellow onion butter chicken liv...  \n",
       "3                         water vegetable oil salt wheat  \n",
       "4      onions water garam masala lemon juice natural ...  \n",
       "...                                                  ...  \n",
       "39769  granulated sugar allpurpose flour butter cooki...  \n",
       "39770  pitted black olives purple onion kraft zesty i...  \n",
       "39771  salt ground nutmeg citrus fruit hot tea butter...  \n",
       "39772  vodka peanuts fresh ginger minced garlic toast...  \n",
       "39773  jalapeno chilies onions green bell pepper roma...  \n",
       "\n",
       "[39774 rows x 7 columns]"
      ]
     },
     "execution_count": 56,
     "metadata": {},
     "output_type": "execute_result"
    }
   ],
   "source": [
    "recipes_df"
   ]
  },
  {
   "cell_type": "code",
   "execution_count": 61,
   "metadata": {},
   "outputs": [],
   "source": [
    "porter = PorterStemmer()\n",
    "ing_port_list = list()\n",
    "i=0\n",
    "\n",
    "for row in recipes_df['ingred_proc_string']:\n",
    "    ing_port = porter.stem(row)\n",
    "#     ing_port_list += ing_port\n",
    "    ing_port_list.append(ing_port)\n",
    "    \n",
    "\n",
    "recipes_df['ing_proc_str_port'] = ing_port_list"
   ]
  },
  {
   "cell_type": "code",
   "execution_count": 99,
   "metadata": {},
   "outputs": [
    {
     "data": {
      "text/plain": [
       "Index(['id', 'cuisine', 'ingredients_string', 'ingred_processed', 'ingred_set',\n",
       "       'ingred_proc_string', 'ing_proc_str_port', 'ing_proc_lst_port'],\n",
       "      dtype='object')"
      ]
     },
     "execution_count": 99,
     "metadata": {},
     "output_type": "execute_result"
    }
   ],
   "source": [
    "recipes_df.columns"
   ]
  },
  {
   "cell_type": "code",
   "execution_count": 97,
   "metadata": {},
   "outputs": [],
   "source": [
    "recipes_df.drop(columns='ingredients',axis=1,inplace=True)"
   ]
  },
  {
   "cell_type": "code",
   "execution_count": 100,
   "metadata": {},
   "outputs": [],
   "source": [
    "recipes_df.drop(columns='ingredients_string',axis=1,inplace=True)"
   ]
  },
  {
   "cell_type": "code",
   "execution_count": 103,
   "metadata": {},
   "outputs": [
    {
     "name": "stderr",
     "output_type": "stream",
     "text": [
      "IOPub data rate exceeded.\n",
      "The notebook server will temporarily stop sending output\n",
      "to the client in order to avoid crashing it.\n",
      "To change this limit, set the config variable\n",
      "`--NotebookApp.iopub_data_rate_limit`.\n",
      "\n",
      "Current values:\n",
      "NotebookApp.iopub_data_rate_limit=1000000.0 (bytes/sec)\n",
      "NotebookApp.rate_limit_window=3.0 (secs)\n",
      "\n"
     ]
    }
   ],
   "source": [
    "porter = PorterStemmer()\n",
    "porter_list = list()\n",
    "i=0\n",
    "\n",
    "for i, row in enumerate(recipes_df['ingred_processed']):\n",
    "    ing_port_list = list()\n",
    "    for term in row:\n",
    "        ing_port = porter.stem(term)\n",
    "        ing_port_list.append(ing_port)\n",
    "    porter_list.append(ing_port_list)\n",
    "\n",
    "\n",
    "print(porter_list)\n",
    "recipes_df['ing_proc_lst_port'] = porter_list"
   ]
  },
  {
   "cell_type": "code",
   "execution_count": null,
   "metadata": {},
   "outputs": [],
   "source": []
  },
  {
   "cell_type": "code",
   "execution_count": 62,
   "metadata": {},
   "outputs": [
    {
     "data": {
      "text/plain": [
       "0        grape tomatoes purple onion romaine lettuce ga...\n",
       "1        green tomatoes salt vegetable oil ground peppe...\n",
       "2        mayonaise salt yellow onion butter chicken liv...\n",
       "3                           water vegetable oil salt wheat\n",
       "4        onions water garam masala lemon juice natural ...\n",
       "                               ...                        \n",
       "39769    granulated sugar allpurpose flour butter cooki...\n",
       "39770    pitted black olives purple onion kraft zesty i...\n",
       "39771    salt ground nutmeg citrus fruit hot tea butter...\n",
       "39772    vodka peanuts fresh ginger minced garlic toast...\n",
       "39773    jalapeno chilies onions green bell pepper roma...\n",
       "Name: ing_proc_str_port, Length: 39774, dtype: object"
      ]
     },
     "execution_count": 62,
     "metadata": {},
     "output_type": "execute_result"
    }
   ],
   "source": [
    "recipes_df.ing_proc_str_port"
   ]
  },
  {
   "cell_type": "code",
   "execution_count": 64,
   "metadata": {},
   "outputs": [],
   "source": [
    "from fuzzywuzzy import fuzz"
   ]
  },
  {
   "cell_type": "code",
   "execution_count": 66,
   "metadata": {},
   "outputs": [
    {
     "data": {
      "text/plain": [
       "tomatoes                                3058\n",
       "diced tomatoes                          1623\n",
       "tomato paste                            1158\n",
       "tomato sauce                             865\n",
       "plum tomatoes                            858\n",
       "crushed tomatoes                         453\n",
       "cherry tomatoes                          436\n",
       "tomatillos                               322\n",
       "chopped tomatoes                         298\n",
       "grape tomatoes                           228\n",
       "roma tomatoes                            227\n",
       "tomato pure                              217\n",
       "stewed tomatoes                          175\n",
       "sundried tomatoes                        161\n",
       "fresh tomatoes                           148\n",
       "whole peeled tomatoes                    127\n",
       "green tomatoes                           108\n",
       "tomatoes with juice                       86\n",
       "tomato juice                              83\n",
       "canned tomatoes                           75\n",
       "peeled tomatoes                           73\n",
       "tomato ketchup                            69\n",
       "roasted tomatoes                          57\n",
       "tomato salsa                              45\n",
       "sundried tomatoes in oil                  36\n",
       "heirloom tomatoes                         35\n",
       "italian plum tomatoes                     34\n",
       "vine ripened tomatoes                     34\n",
       "diced tomatoes in juice                   27\n",
       "rotel tomatoes                            26\n",
       "beefsteak tomatoes                        24\n",
       "sliced tomatoes                           23\n",
       "tomato basil sauce                        23\n",
       "italian tomatoes                          21\n",
       "nosaltadded diced tomatoes                18\n",
       "condensed tomato soup                     17\n",
       "italian style stewed tomatoes             17\n",
       "fire roasted diced tomatoes               16\n",
       "fresh tomato salsa                        13\n",
       "    oz tomato sauce                       11\n",
       "tomato soup                               11\n",
       "tomatillo salsa                           10\n",
       "vine tomatoes                             10\n",
       "sundried tomato pesto                     10\n",
       "pear tomatoes                              9\n",
       "canned chopped tomatoes                    9\n",
       "diced tomatoes with garlic and onion       9\n",
       "   oz tomato paste                         9\n",
       "diced tomatoes and green chilies           8\n",
       "campbells condensed tomato soup            7\n",
       "dtype: int64"
      ]
     },
     "execution_count": 66,
     "metadata": {},
     "output_type": "execute_result"
    }
   ],
   "source": [
    "tomat_series"
   ]
  },
  {
   "cell_type": "code",
   "execution_count": 78,
   "metadata": {},
   "outputs": [
    {
     "name": "stdout",
     "output_type": "stream",
     "text": [
      "[('tomatoes', 100), ('diced tomatoes', 100), ('plum tomatoes', 100), ('crushed tomatoes', 100), ('cherry tomatoes', 100), ('chopped tomatoes', 100), ('grape tomatoes', 100), ('roma tomatoes', 100), ('stewed tomatoes', 100), ('sundried tomatoes', 100), ('fresh tomatoes', 100), ('whole peeled tomatoes', 100), ('green tomatoes', 100), ('tomatoes with juice', 100), ('canned tomatoes', 100), ('peeled tomatoes', 100), ('roasted tomatoes', 100), ('sundried tomatoes in oil', 100), ('heirloom tomatoes', 100), ('italian plum tomatoes', 100), ('vine ripened tomatoes', 100), ('diced tomatoes in juice', 100), ('rotel tomatoes', 100), ('beefsteak tomatoes', 100), ('sliced tomatoes', 100), ('italian tomatoes', 100), ('nosaltadded diced tomatoes', 100), ('italian style stewed tomatoes', 100), ('fire roasted diced tomatoes', 100), ('vine tomatoes', 100), ('pear tomatoes', 100), ('canned chopped tomatoes', 100), ('diced tomatoes with garlic and onion', 100), ('diced tomatoes and green chilies', 100), ('tomatillos', 78), ('tomato pure', 63), ('tomato soup', 63), ('tomato paste', 60), ('tomato sauce', 60), ('tomato juice', 60), ('tomato salsa', 60), ('tomato ketchup', 55), ('    oz tomato sauce', 52), ('tomatillo salsa', 52), ('   oz tomato paste', 52), ('tomato basil sauce', 46), ('fresh tomato salsa', 46), ('condensed tomato soup', 41), ('sundried tomato pesto', 41), ('campbells condensed tomato soup', 31)]\n",
      "('tomatoes', 100)\n"
     ]
    }
   ],
   "source": [
    "from fuzzywuzzy import process\n",
    "str2Match = tomat_series.index[0]\n",
    "strOptions = list(tomat_series.index)\n",
    "Ratios = process.extract(str2Match,strOptions,limit=50,scorer=fuzz.token_set_ratio)\n",
    "print(Ratios)\n",
    "# You can also select the string with the highest matching percentage\n",
    "highest = process.extractOne(str2Match,strOptions)\n",
    "print(highest)"
   ]
  },
  {
   "cell_type": "code",
   "execution_count": 79,
   "metadata": {},
   "outputs": [
    {
     "data": {
      "text/plain": [
       "Index(['id', 'cuisine', 'ingredients', 'ingredients_string',\n",
       "       'ingred_processed', 'ingred_set', 'ingred_proc_string',\n",
       "       'ing_proc_str_port'],\n",
       "      dtype='object')"
      ]
     },
     "execution_count": 79,
     "metadata": {},
     "output_type": "execute_result"
    }
   ],
   "source": [
    "recipes_df.columns"
   ]
  },
  {
   "cell_type": "code",
   "execution_count": 86,
   "metadata": {},
   "outputs": [
    {
     "data": {
      "text/plain": [
       "0        grape tomatoes purple onion romaine lettuce ga...\n",
       "1        green tomatoes salt vegetable oil ground peppe...\n",
       "2        mayonaise salt yellow onion butter chicken liv...\n",
       "3                           water vegetable oil salt wheat\n",
       "4        onions water garam masala lemon juice natural ...\n",
       "                               ...                        \n",
       "39769    granulated sugar allpurpose flour butter cooki...\n",
       "39770    pitted black olives purple onion kraft zesty i...\n",
       "39771    salt ground nutmeg citrus fruit hot tea butter...\n",
       "39772    vodka peanuts fresh ginger minced garlic toast...\n",
       "39773    jalapeno chilies onions green bell pepper roma...\n",
       "Name: ingred_proc_string, Length: 39774, dtype: object"
      ]
     },
     "execution_count": 86,
     "metadata": {},
     "output_type": "execute_result"
    }
   ],
   "source": [
    "recipes_df['ing_no_rpts_list']"
   ]
  },
  {
   "cell_type": "code",
   "execution_count": 82,
   "metadata": {},
   "outputs": [
    {
     "data": {
      "text/html": [
       "<div>\n",
       "<style scoped>\n",
       "    .dataframe tbody tr th:only-of-type {\n",
       "        vertical-align: middle;\n",
       "    }\n",
       "\n",
       "    .dataframe tbody tr th {\n",
       "        vertical-align: top;\n",
       "    }\n",
       "\n",
       "    .dataframe thead th {\n",
       "        text-align: right;\n",
       "    }\n",
       "</style>\n",
       "<table border=\"1\" class=\"dataframe\">\n",
       "  <thead>\n",
       "    <tr style=\"text-align: right;\">\n",
       "      <th></th>\n",
       "      <th>id</th>\n",
       "      <th>cuisine</th>\n",
       "      <th>ingredients</th>\n",
       "      <th>ingredients_string</th>\n",
       "      <th>ingred_processed</th>\n",
       "      <th>ingred_set</th>\n",
       "      <th>ingred_proc_string</th>\n",
       "      <th>ing_proc_str_port</th>\n",
       "    </tr>\n",
       "  </thead>\n",
       "  <tbody>\n",
       "  </tbody>\n",
       "</table>\n",
       "</div>"
      ],
      "text/plain": [
       "Empty DataFrame\n",
       "Columns: [id, cuisine, ingredients, ingredients_string, ingred_processed, ingred_set, ingred_proc_string, ing_proc_str_port]\n",
       "Index: []"
      ]
     },
     "execution_count": 82,
     "metadata": {},
     "output_type": "execute_result"
    }
   ],
   "source": [
    "def get_ratio(row):\n",
    "    name = row['ing_proc_str_port']\n",
    "#     print(name)\n",
    "    return fuzz.token_sort_ratio(name, \"tomatoes\")\n",
    "\n",
    "recipes_df[recipes_df.apply(get_ratio, axis=1) > 70]"
   ]
  },
  {
   "cell_type": "code",
   "execution_count": null,
   "metadata": {},
   "outputs": [],
   "source": []
  }
 ],
 "metadata": {
  "kernelspec": {
   "display_name": "Python 3",
   "language": "python",
   "name": "python3"
  },
  "language_info": {
   "codemirror_mode": {
    "name": "ipython",
    "version": 3
   },
   "file_extension": ".py",
   "mimetype": "text/x-python",
   "name": "python",
   "nbconvert_exporter": "python",
   "pygments_lexer": "ipython3",
   "version": "3.7.3"
  }
 },
 "nbformat": 4,
 "nbformat_minor": 2
}
